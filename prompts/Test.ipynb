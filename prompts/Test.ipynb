{
 "cells": [
  {
   "cell_type": "markdown",
   "id": "dd3fd6ec-bd20-4512-b45f-eb63b895959b",
   "metadata": {},
   "source": [
    "Test"
   ]
  },
  {
   "cell_type": "code",
   "execution_count": 1,
   "id": "4647b8a7-7b20-488e-9c0d-e8c399525292",
   "metadata": {},
   "outputs": [],
   "source": [
    "import jsonlines\n",
    "import os\n",
    "import sys\n",
    "import json\n",
    "import yaml\n",
    "\n",
    "# with open(\"/home/yixin/work/msxf/ARIN/prompts/delta_additive.yaml\") as stream:\n",
    "#     try:\n",
    "#         cfg_file = yaml.safe_load(stream)\n",
    "#     except yaml.YAMLError as exc:\n",
    "#         print(exc)"
   ]
  },
  {
   "cell_type": "code",
   "execution_count": 2,
   "id": "4c4a0e48",
   "metadata": {},
   "outputs": [],
   "source": [
    "delta = \"/home/yixin/work/msxf/ARIN/prompts/delta_additive.yaml\"\n",
    "division_cv = \"/home/yixin/work/msxf/ARIN/prompts/division_cv.yaml\"\n",
    "division_dc = \"/home/yixin/work/msxf/ARIN/prompts/division_dc.yaml\"\n",
    "multiplicative = \"/home/yixin/work/msxf/ARIN/prompts/multiplicative.yaml\"\n",
    "\n",
    "files = [delta, division_cv, division_dc, multiplicative]\n",
    "output_files = []\n",
    "for file in files:\n",
    "    with open(file) as stream:\n",
    "        try:\n",
    "            cfg_file = yaml.safe_load(stream)\n",
    "            output_files.append(cfg_file)\n",
    "        except yaml.YAMLError as exc:\n",
    "            print(exc)\n",
    "    \n",
    "# obj = eval(cfg_file['model']['prompt'])"
   ]
  },
  {
   "cell_type": "code",
   "execution_count": 3,
   "id": "cc75493f",
   "metadata": {},
   "outputs": [
    {
     "data": {
      "text/plain": [
       "{'model_name': 'MultiplicativeLogarrithm',\n",
       " 'model_context': '<REPLACE_TOKEN>',\n",
       " 'input': {'y_curr': '<REPLACE_TOKEN>',\n",
       "  'y_base': '<REPLACE_TOKEN>',\n",
       "  'x_curr': '<REPLACE_TOKEN>',\n",
       "  'x_base': '<REPLACE_TOKEN>',\n",
       "  'column_names': '<REPLACE_TOKEN>'},\n",
       " 'output': '<REPLACE_TOKEN>',\n",
       " 'rule': '这是一个针对乘法指数的归因分析模型, 也就是说, 子指数各维度相乘应该和核心指数具有非常强烈的相关性, 从数学法则看, 由于乘法可以通过取对数的方式变换为加法, \\n        所以该场景设计的归因分析模型是将核心指数和其子指数的值分别求对数, 然后基于对数的结果, 再通过加法法则来得到的输出结果,下面是更详细的对于输入的解释:\\n        对于y_curr和y_base, 它俩都是标量, 也就是具体数值, y_curr由x_curr基于乘法聚合而来, y_base由x_base基于乘法聚合而来. \\n        x_curr和x_base都是向量. \\n        y_curr是当前要分析的核心指数, 也可称作待观察期主指数 或者 待分析期主指数, \\n        y_base是分析y_curr时要去参考核心指数,也可称作基础期主指数. \\n        主指数是由相应的明细子指数基于乘法聚合而成\\n        x_curr是待分析期主指数y_curr对应的N维明细子指数向量, \\n        x_base是基础期主指数y_base对应的N维明细子指数向量,\\n        column_names 是一个包含N个元素的list, 里面是与明细子维度向量中一一对应的列名.\\n        output 是模型的输出, 在定基法中, 模型的输出是一个和x_base同维度的list, 代表着模型对于该案例的归因分析结果,\\n        归因分析模型给出的结果视为基于参考期,对观察期主指数的相关N维明细子指数向量对主指数波动的贡献度.\\n        现在需要你根据贡献度以及上述给出的input中的内容, 对数据进行总结和分析.\\n        '}"
      ]
     },
     "execution_count": 3,
     "metadata": {},
     "output_type": "execute_result"
    }
   ],
   "source": [
    "eval(output_files[3]['model']['prompt'])"
   ]
  },
  {
   "cell_type": "code",
   "execution_count": null,
   "id": "5369b9a9",
   "metadata": {},
   "outputs": [],
   "source": []
  }
 ],
 "metadata": {
  "kernelspec": {
   "display_name": "Python 3 (ipykernel)",
   "language": "python",
   "name": "python3"
  },
  "language_info": {
   "codemirror_mode": {
    "name": "ipython",
    "version": 3
   },
   "file_extension": ".py",
   "mimetype": "text/x-python",
   "name": "python",
   "nbconvert_exporter": "python",
   "pygments_lexer": "ipython3",
   "version": "3.11.8"
  }
 },
 "nbformat": 4,
 "nbformat_minor": 5
}
